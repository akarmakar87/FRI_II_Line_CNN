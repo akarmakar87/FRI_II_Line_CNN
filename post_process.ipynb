{
 "cells": [
  {
   "cell_type": "code",
   "execution_count": 61,
   "metadata": {},
   "outputs": [],
   "source": [
    "# CURRENTLY WORKING IN THIS ONE\n",
    "import os\n",
    "import matplotlib.pyplot as plt\n",
    "from PIL import Image\n",
    "import numpy as np\n",
    "from random import randint\n",
    "from sklearn import preprocessing as p\n",
    "import gc\n",
    "import cv2"
   ]
  },
  {
   "cell_type": "code",
   "execution_count": 93,
   "metadata": {},
   "outputs": [],
   "source": [
    "model_path = 'model_output.npy'\n",
    "input_path = '4_input.npy'\n",
    "model_image_arr = np.load(model_path)\n",
    "input_image_arr = np.load(input_path)\n",
    "\n",
    "\n",
    "def mask(model_input, model_output):\n",
    "    WHITE = 1\n",
    "    BLACK = 0\n",
    "\n",
    "    model_image_arr = 1-model_image_arr\n",
    "    input_image_arr = 1-input_image_arr\n",
    "    input_image_arr[input_image_arr != WHITE] = BLACK\n",
    "\n",
    "    masked_arr = np.logical_and(input_image_arr, model_image_arr, input_image_arr == WHITE)\n",
    "\n",
    "    input_image_arr = 1-input_image_arr\n",
    "\n",
    "# input_image_arr = input_image_arr*255\n",
    "# im2 = Image.fromarray(input_image_arr)\n",
    "# im2.show()\n",
    "\n",
    "# masked_arr = masked_arr*255\n",
    "# im = Image.fromarray(masked_arr)\n",
    "# im.show()\n",
    "\n",
    "\n",
    "# for i in input_image_arr:\n",
    "#     for j in i:\n",
    "#         if j == 0:\n",
    "#             print(\"center\")"
   ]
  },
  {
   "cell_type": "code",
   "execution_count": null,
   "metadata": {},
   "outputs": [],
   "source": [
    "# count blobs"
   ]
  },
  {
   "cell_type": "code",
   "execution_count": 63,
   "metadata": {},
   "outputs": [],
   "source": [
    "# for r in range(1,len(image_arr)-1):\n",
    "#     for c in range(1,len(image_arr)-1):\n",
    "#         if (center(r,c)):\n",
    "\n"
   ]
  },
  {
   "cell_type": "code",
   "execution_count": 64,
   "metadata": {},
   "outputs": [],
   "source": [
    "# Setup SimpleBlobDetector parameters.\n",
    "params = cv2.SimpleBlobDetector_Params()\n",
    "# Change thresholds\n",
    "params.minThreshold = 50\n",
    "# params.maxThreshold = 9\n",
    "\n",
    "# # Filter by Area.\n",
    "params.filterByArea = True\n",
    "params.minArea = 20\n",
    "\n",
    "# # Filter by Circularity\n",
    "# params.filterByCircularity = True\n",
    "# params.minCircularity = 0.1\n",
    "\n",
    "# # Filter by Convexity\n",
    "# params.filterByConvexity = True\n",
    "# params.minConvexity = 0.87\n",
    "\n",
    "# # Filter by Inertia\n",
    "# params.filterByInertia = True\n",
    "# params.minInertiaRatio = 0.01\n",
    "\n",
    "# Create a detector with the parameters\n",
    "ver = (cv2.__version__).split('.')\n",
    "if int(ver[0]) < 3 :\n",
    "    detector = cv2.SimpleBlobDetector(params)\n",
    "else : \n",
    "    detector = cv2.SimpleBlobDetector_create(params)"
   ]
  },
  {
   "cell_type": "code",
   "execution_count": 65,
   "metadata": {},
   "outputs": [
    {
     "ename": "error",
     "evalue": "OpenCV(4.6.0) /io/opencv/modules/features2d/src/blobdetector.cpp:319: error: (-210:Unsupported format or combination of formats) Blob detector only supports 8-bit images! in function 'detect'\n",
     "output_type": "error",
     "traceback": [
      "\u001b[0;31m---------------------------------------------------------------------------\u001b[0m",
      "\u001b[0;31merror\u001b[0m                                     Traceback (most recent call last)",
      "Cell \u001b[0;32mIn[65], line 19\u001b[0m\n\u001b[1;32m      5\u001b[0m \u001b[39m# cv2.imwrite(\"opencv-threshold-example.jpg\", thresh); \u001b[39;00m\n\u001b[1;32m      6\u001b[0m \n\u001b[1;32m      7\u001b[0m \u001b[39m# # calculate moments of binary image\u001b[39;00m\n\u001b[0;32m   (...)\u001b[0m\n\u001b[1;32m     15\u001b[0m \u001b[39m# cv2.circle(img, (cX, cY), 5, (255, 255, 255), -1)\u001b[39;00m\n\u001b[1;32m     16\u001b[0m \u001b[39m# cv2.putText(img, \"centroid\", (cX - 25, cY - 25),cv2.FONT_HERSHEY_SIMPLEX, 0.5, (255, 255, 255), 2)\u001b[39;00m\n\u001b[1;32m     18\u001b[0m detector \u001b[39m=\u001b[39m cv2\u001b[39m.\u001b[39mSimpleBlobDetector_create(params)\n\u001b[0;32m---> 19\u001b[0m keypoints \u001b[39m=\u001b[39m detector\u001b[39m.\u001b[39;49mdetect(ret)\n\u001b[1;32m     20\u001b[0m \u001b[39mprint\u001b[39m (keypoints)\n\u001b[1;32m     21\u001b[0m blobs \u001b[39m=\u001b[39m cv2\u001b[39m.\u001b[39mdrawKeypoints(ret, keypoints, np\u001b[39m.\u001b[39marray([]), (\u001b[39m0\u001b[39m, \u001b[39m0\u001b[39m,\u001b[39m255\u001b[39m), cv2\u001b[39m.\u001b[39mDRAW_MATCHES_FLAGS_DRAW_RICH_KEYPOINTS)\n",
      "\u001b[0;31merror\u001b[0m: OpenCV(4.6.0) /io/opencv/modules/features2d/src/blobdetector.cpp:319: error: (-210:Unsupported format or combination of formats) Blob detector only supports 8-bit images! in function 'detect'\n"
     ]
    }
   ],
   "source": [
    "img = cv2.imread('example.PNG',0)\n",
    "\n",
    "ret , thresh = cv2.threshold(img,127,255,0)\n",
    "\n",
    "# cv2.imwrite(\"opencv-threshold-example.jpg\", thresh); \n",
    "\n",
    "# # calculate moments of binary image\n",
    "# M = cv2.moments(thresh)\n",
    "\n",
    "# # calculate x,y coordinate of center\n",
    "# cX = int(M[\"m10\"] / M[\"m00\"])\n",
    "# cY = int(M[\"m01\"] / M[\"m00\"])\n",
    "\n",
    "# # put text and highlight the center\n",
    "# cv2.circle(img, (cX, cY), 5, (255, 255, 255), -1)\n",
    "# cv2.putText(img, \"centroid\", (cX - 25, cY - 25),cv2.FONT_HERSHEY_SIMPLEX, 0.5, (255, 255, 255), 2)\n",
    "\n",
    "detector = cv2.SimpleBlobDetector_create(params)\n",
    "keypoints = detector.detect(img)\n",
    "print (keypoints)\n",
    "blobs = cv2.drawKeypoints(img, keypoints, np.array([]), (0, 0,255), cv2.DRAW_MATCHES_FLAGS_DRAW_RICH_KEYPOINTS)\n",
    "\n",
    "# # cv2.imshow('Blobs', blobs)\n",
    "# # cv2.waitKey(0)\n",
    "\n",
    "# # display the image\n",
    "# cv2.imshow(\"Image\", img)\n",
    "cv2.imwrite(\"blob.jpg\", blobs)\n",
    "# cv2.waitKey(0)"
   ]
  }
 ],
 "metadata": {
  "kernelspec": {
   "display_name": "Python 3.9.13 ('pyenv')",
   "language": "python",
   "name": "python3"
  },
  "language_info": {
   "codemirror_mode": {
    "name": "ipython",
    "version": 3
   },
   "file_extension": ".py",
   "mimetype": "text/x-python",
   "name": "python",
   "nbconvert_exporter": "python",
   "pygments_lexer": "ipython3",
   "version": "3.9.13"
  },
  "orig_nbformat": 4,
  "vscode": {
   "interpreter": {
    "hash": "6c6b82f28f63ce523f5c26d92ac0b14ad6785c6a25a5c8f6e4c562a3fc2245a3"
   }
  }
 },
 "nbformat": 4,
 "nbformat_minor": 2
}
