{
 "cells": [
  {
   "cell_type": "code",
   "execution_count": null,
   "metadata": {},
   "outputs": [],
   "source": [
    "from torch.utils.data import DataLoader, Dataset\n",
    "import torchvision.transforms as T\n",
    "import torch\n",
    "import torch.nn as nn\n",
    "from torchvision.utils import make_grid\n",
    "from torchvision.utils import save_image\n",
    "from IPython.display import Image\n",
    "import matplotlib.pyplot as plt\n",
    "import numpy as np\n",
    "import random\n",
    "%matplotlib inline"
   ]
  },
  {
   "cell_type": "markdown",
   "metadata": {},
   "source": [
    "<!-- # load image from npy file\n",
    "X_train = np.load('test.npy')\n",
    "print(type(X_train[0][0][0][0]))\n",
    "\n",
    "# d = X_train.astype(np.float64)\n",
    "# d = 255 * d\n",
    "# X_train = d.astype(np.uint8)\n",
    "\n",
    "print(f\"Shape of training data: {X_train.shape}\")\n",
    "print(f\"Data type: {type(X_train)}\")\n",
    "\n",
    "print (len(X_train))\n",
    "random_image = random.randint(0, len(X_train))\n",
    "print (random_image)\n",
    "plt.imshow(X_train[random_image])\n",
    "plt.axis('off')\n",
    "plt.show() -->"
   ]
  },
  {
   "cell_type": "code",
   "execution_count": null,
   "metadata": {},
   "outputs": [],
   "source": [
    "image_size = 64\n",
    "INPUT_DATA_PATH = 'test_input.npy'\n",
    "OUTPUT_DATA_PATH = 'test_output.npy'\n",
    "X_train = np.load(INPUT_DATA_PATH)\n",
    "Y_train = np.load(OUTPUT_DATA_PATH)"
   ]
  },
  {
   "cell_type": "markdown",
   "metadata": {},
   "source": [
    "<!-- class lineDataset(Dataset):\n",
    "    'Characterizes a dataset for PyTorch'\n",
    "    def __init__(self, X):\n",
    "        'Initialization'\n",
    "        self.X = X\n",
    "\n",
    "    def __len__(self):\n",
    "        'Denotes the total number of samples'\n",
    "        return len(self.X)\n",
    "\n",
    "    def __getitem__(self, index):\n",
    "        'Generates one sample of data'\n",
    "        # Select sample\n",
    "        image = self.X[index]\n",
    "        X = self.transform(image)\n",
    "        return X\n",
    "        \n",
    "    transform = T.Compose([\n",
    "        T.ToPILImage(),\n",
    "        T.Resize(image_size),\n",
    "        T.ToTensor()])\n",
    "\n",
    "batch_size = 2\n",
    "#transformed_dataset = lineDataset(X=X_train)\n",
    "train_dl = DataLoader(X_train) #transformed_dataset, batch_size, shuffle=True, num_workers=3)#, pin_memory=True)\n",
    "\n",
    "print (train_dl.__len__())\n",
    "#print (type(transformed_dataset.__getitem__(index=0)))\n",
    "\n",
    "def show_images(images, nmax=64):\n",
    "    fig, ax = plt.subplots(figsize=(8, 8))\n",
    "    ax.set_xticks([]); ax.set_yticks([])\n",
    "    ax.imshow(make_grid((images.detach()[:nmax]), nrow=8).permute(1, 2, 0))\n",
    "\n",
    "def show_batch(dl):\n",
    "    print (\"entered\")\n",
    "    # for batch_idx, batch in enumerate(dl):\n",
    "    #     break\n",
    "        # print (batch_idx, batch)\n",
    "        # if batch_idx == 1:\n",
    "        #     break\n",
    "\n",
    "show_batch (train_dl) -->"
   ]
  },
  {
   "cell_type": "code",
   "execution_count": null,
   "metadata": {},
   "outputs": [],
   "source": [
    "class LinesDataset():\n",
    "        def __init__(self, lines, labels):\n",
    "                self.lines = lines\n",
    "                self.labels = labels\n",
    "        def __len__(self):\n",
    "                return len(self.lines)\n",
    "        def __getitem__(self, idx):\n",
    "                line = self.lines[idx]\n",
    "                label = self.labels[idx]\n",
    "                sample = {\"Line\": line, \"Label\": label}\n",
    "                return sample\n",
    "\n",
    "def show_images(images, nmax=64):\n",
    "        fig, ax = plt.subplots(figsize=(8, 8))\n",
    "        ax.set_xticks([]); ax.set_yticks([])\n",
    "        ax.imshow(make_grid((images.detach()[:nmax]), nrow=8).permute(1, 2, 0))\n",
    "\n",
    "def show_batch(ds):\n",
    "        \n",
    "        ds_iter = iter(ds)\n",
    "        \n",
    "        for i in range (len(ds)):\n",
    "                samp = next(ds_iter)\n",
    "                line = samp['Line']\n",
    "                label = samp['Label']\n",
    "                plt.imshow(line)\n",
    "                plt.axis('off')\n",
    "                plt.show()\n",
    "\n",
    "training_dataset = LinesDataset(X_train, Y_train)\n",
    "# show_batch(training_dataset)\n",
    "\n",
    "# create DataLoader object of DataSet object\n",
    "bat_size = 2\n",
    "DL_DS = DataLoader(training_dataset, batch_size=bat_size, shuffle=True)\n",
    "\n",
    "# # loop through each batch in the DataLoader object\n",
    "# for (idx, batch) in enumerate(DL_DS):\n",
    "#     print(idx, 'Text data: ', batch, '\\n')\n"
   ]
  }
 ],
 "metadata": {
  "kernelspec": {
   "display_name": "Python 3.10.8 ('pyenv': venv)",
   "language": "python",
   "name": "python3"
  },
  "language_info": {
   "codemirror_mode": {
    "name": "ipython",
    "version": 3
   },
   "file_extension": ".py",
   "mimetype": "text/x-python",
   "name": "python",
   "nbconvert_exporter": "python",
   "pygments_lexer": "ipython3",
   "version": "3.10.8"
  },
  "orig_nbformat": 4,
  "vscode": {
   "interpreter": {
    "hash": "952863ed7f17ffcbf80d30bf455f69fb2e26b6b85815b8fac0ebd69316f2e222"
   }
  }
 },
 "nbformat": 4,
 "nbformat_minor": 2
}
