{
 "cells": [
  {
   "cell_type": "code",
   "execution_count": null,
   "metadata": {},
   "outputs": [],
   "source": [
    "import torch\n",
    "from torch import nn\n",
    "from torch.utils.data import DataLoader, TensorDataset\n",
    "from torchvision import datasets\n",
    "from torchvision.transforms import ToTensor\n",
    "import pandas as pd\n",
    "import os\n",
    "import numpy as np\n"
   ]
  },
  {
   "cell_type": "code",
   "execution_count": null,
   "metadata": {},
   "outputs": [],
   "source": [
    "# Read the array from disk\n",
    "new_data = np.loadtxt('test.csv')\n",
    "\n",
    "# Note that this returned a 2D array!\n",
    "print(new_data.shape)\n",
    "\n",
    "# However, going back to 3D is easy if we know the \n",
    "# original shape of the array\n",
    "new_data = new_data.reshape((1000, 20, 4))\n",
    "print(new_data[0][0])\n",
    "# Just to check that they're the same...\n",
    "# assert np.all(new_data == data)"
   ]
  },
  {
   "cell_type": "code",
   "execution_count": null,
   "metadata": {},
   "outputs": [],
   "source": [
    "x_input = pd.read_csv('model_input.csv').to_numpy()\n",
    "\n",
    "# x_input = np.loadtxt('model_input.csv')\n",
    "# x_input = x_input.reshape((1000, 20, 4))\n",
    "# print(x_input.shape)\n",
    "# 3/4 training, 1/4 test\n",
    "x_train = torch.tensor(x_input[:750], dtype=torch.float)\n",
    "x_test = torch.tensor(x_input[750:], dtype=torch.float)\n",
    "\n",
    "y_input = pd.read_csv('model_expected_output.csv').to_numpy()\n",
    "# y_input = np.loadtxt('model_expected_output.csv')\n",
    "# y_input = y_input.reshape(1000, 4)\n",
    "# print(y_input.shape)\n",
    "\n",
    "y_train = torch.tensor(y_input[:750], dtype=torch.float)\n",
    "y_test = torch.tensor(y_input[750:], dtype=torch.float)\n",
    "\n",
    "train_dataset = TensorDataset(x_train,y_train) # create your datset\n",
    "train_dataloader = DataLoader(train_dataset) # create your dataloader\n",
    "\n",
    "test_dataset = TensorDataset(x_test, y_test)\n",
    "test_dataloader = DataLoader(test_dataset)\n",
    "\n",
    "# print(test_dataloader.dataset[0][0].shape)\n",
    "# print(test_dataloader.dataset[0][0])\n",
    "\n",
    "# \"\"\"\n",
    "#   Standard Scale test and train data\n",
    "#   Z - Score normalization\n",
    "# \"\"\"\n",
    "# def scale_datasets(x_train, x_test):\n",
    "#     standard_scaler = StandardScaler()\n",
    "#     x_train_scaled = pd.DataFrame(\n",
    "#         standard_scaler.fit_transform(x_train),\n",
    "#         columns=x_train.columns\n",
    "#     )\n",
    "#     x_test_scaled = pd.DataFrame(\n",
    "#         standard_scaler.transform(x_test),\n",
    "#         columns = x_test.columns\n",
    "#     )\n",
    "#     return x_train_scaled, x_test_scaled\n",
    "# x_train_scaled, x_test_scaled = scale_datasets(train_dataset, test_dataset)"
   ]
  },
  {
   "cell_type": "code",
   "execution_count": null,
   "metadata": {},
   "outputs": [],
   "source": [
    "class NeuralNetwork(nn.Module):\n",
    "    def __init__(self):\n",
    "        super(NeuralNetwork, self).__init__()\n",
    "        hidden_units1 = 160\n",
    "        hidden_units2 = 480\n",
    "        hidden_units3 = 256\n",
    "        self.linear_relu_stack = nn.Sequential(\n",
    "            # nn.Flatten(),\n",
    "            # nn.Linear(80, 4)\n",
    "            nn.Linear(80, 4),\n",
    "            nn.ReLU(),\n",
    "            nn.Dropout(0.5),\n",
    "        )\n",
    "\n",
    "    def forward(self, x):\n",
    "        logits = self.linear_relu_stack(x)\n",
    "        return logits\n",
    "\n",
    "\n",
    "def train_loop(dataloader, model, loss_fn, optimizer):\n",
    "    size = len(dataloader.dataset)\n",
    "    for batch, (X, y) in enumerate(dataloader):\n",
    "        pred = model(X)\n",
    "        # print(f\"predicted: {pred}\")\n",
    "        # print(f\"actual: {y}\")\n",
    "        loss = loss_fn(pred, y)\n",
    "\n",
    "        optimizer.zero_grad()\n",
    "        loss.backward()\n",
    "        optimizer.step()\n",
    "        \n",
    "        # print(f\"loss: {loss:>7f}\")\n",
    "\n",
    "        if batch % 50 == 0:\n",
    "            loss, current = loss.item(), batch * len(X)\n",
    "            print(f\"loss: {loss:>7f}  [{current:>5d}/{size:>5d}]\")\n",
    "\n",
    "def test_loop(dataloader, model, loss_fn):\n",
    "    size = len(dataloader.dataset)\n",
    "    num_batches = len(dataloader)\n",
    "    test_loss, correct = 0, 0\n",
    "\n",
    "    with torch.no_grad():\n",
    "        for X, y in dataloader:\n",
    "            pred = model(X)\n",
    "            test_loss += loss_fn(pred, y).item()\n",
    "            correct += (pred.argmax(1) == y).type(torch.float).sum().item()\n",
    "\n",
    "    test_loss /= num_batches\n",
    "    correct /= size\n",
    "    print(f\"Test Error: \\n Accuracy: {(100*correct):>0.1f}%, Avg loss: {test_loss:>8f} \\n\")"
   ]
  },
  {
   "cell_type": "code",
   "execution_count": null,
   "metadata": {},
   "outputs": [],
   "source": [
    "model = NeuralNetwork()\n",
    "learning_rate = 0.001\n",
    "batch_size = 64\n",
    "epochs = 5\n",
    "# Initialize the loss function\n",
    "# loss_fn = nn.MSELoss()\n",
    "loss_fn = nn.CrossEntropyLoss() # can change this to another loss function\n",
    "optimizer = torch.optim.SGD(model.parameters(), lr=learning_rate)"
   ]
  },
  {
   "cell_type": "code",
   "execution_count": null,
   "metadata": {},
   "outputs": [],
   "source": [
    "for t in range(epochs):\n",
    "    print(f\"Epoch {t+1}\\n-------------------------------\")\n",
    "    train_loop(train_dataloader, model, loss_fn, optimizer)\n",
    "    test_loop(test_dataloader, model, loss_fn)\n",
    "    \n",
    "print(\"Done!\")"
   ]
  }
 ],
 "metadata": {
  "kernelspec": {
   "display_name": "Python 3.9.13 64-bit (microsoft store)",
   "language": "python",
   "name": "python3"
  },
  "language_info": {
   "codemirror_mode": {
    "name": "ipython",
    "version": 3
   },
   "file_extension": ".py",
   "mimetype": "text/x-python",
   "name": "python",
   "nbconvert_exporter": "python",
   "pygments_lexer": "ipython3",
   "version": "3.9.13"
  },
  "orig_nbformat": 4,
  "vscode": {
   "interpreter": {
    "hash": "8acc7b48a3c0d3b237d4df3665a51f198fbfa76edf4f0b28971e41f117b09b0d"
   }
  }
 },
 "nbformat": 4,
 "nbformat_minor": 2
}
